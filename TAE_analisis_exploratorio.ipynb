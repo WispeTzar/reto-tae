{
  "nbformat": 4,
  "nbformat_minor": 0,
  "metadata": {
    "colab": {
      "name": "TAE-analisis exploratorio.ipynb",
      "provenance": []
    },
    "kernelspec": {
      "name": "python3",
      "display_name": "Python 3"
    },
    "language_info": {
      "name": "python"
    }
  },
  "cells": [
    {
      "cell_type": "markdown",
      "source": [
        "Elabore un análisis descriptivo sobre los compañeros del curso a partir de la información recopilada en el Tablón.\n",
        "\n",
        "El análisis debe incluir las variables:\n",
        "- Semestre en curso\n",
        "- Programa\n",
        "- Sexo\n",
        "- Pasatiempo\n",
        "- Sueño"
      ],
      "metadata": {
        "id": "05fTxMcL4iyp"
      }
    },
    {
      "cell_type": "code",
      "execution_count": 119,
      "metadata": {
        "id": "l7hc0wkY4YfC"
      },
      "outputs": [],
      "source": [
        "import pandas as pd\n",
        "import numpy as np\n",
        "import matplotlib.pyplot as plt\n",
        "import seaborn as sns"
      ]
    },
    {
      "cell_type": "code",
      "source": [
        "datos = pd.read_excel(\"/content/Libro1.xlsx\")"
      ],
      "metadata": {
        "id": "7gh_NacX6QY5"
      },
      "execution_count": 120,
      "outputs": []
    },
    {
      "cell_type": "markdown",
      "source": [
        "#Los datos son:"
      ],
      "metadata": {
        "id": "jMw3icDNhi57"
      }
    },
    {
      "cell_type": "code",
      "source": [
        "datos.head()"
      ],
      "metadata": {
        "colab": {
          "base_uri": "https://localhost:8080/",
          "height": 206
        },
        "id": "NTuK2JZOgrLb",
        "outputId": "edab2bd0-e4bc-4683-8eb9-87411e505f13"
      },
      "execution_count": 121,
      "outputs": [
        {
          "output_type": "execute_result",
          "data": {
            "text/plain": [
              "                            Nombre        Carrera  Semestre  \\\n",
              "0              jonathan urrego zea  ing. Sistemas         8   \n",
              "1        edwar josé londoño correa  ing. Sistemas         9   \n",
              "2     german alonso patiño hurtado    estadística        10   \n",
              "3     johan sebastián cano garcía   ing. Sistemas        10   \n",
              "4  fernando jose calderon buitrago     ing. Civil         9   \n",
              "\n",
              "                    Pasatiempo                sueño sexo  \n",
              "0             aprender,deporte       emprendimiento    h  \n",
              "1  ejercicio, rumbear,estudiar              innovar    h  \n",
              "2       trabajar,ver peliculas  cientifico de datos    h  \n",
              "3                  videojuegos  cientifico de datos    h  \n",
              "4                        nadar  cientifico de datos    h  "
            ],
            "text/html": [
              "\n",
              "  <div id=\"df-9d6b4599-e679-455f-9c82-c69eb9a38a2e\">\n",
              "    <div class=\"colab-df-container\">\n",
              "      <div>\n",
              "<style scoped>\n",
              "    .dataframe tbody tr th:only-of-type {\n",
              "        vertical-align: middle;\n",
              "    }\n",
              "\n",
              "    .dataframe tbody tr th {\n",
              "        vertical-align: top;\n",
              "    }\n",
              "\n",
              "    .dataframe thead th {\n",
              "        text-align: right;\n",
              "    }\n",
              "</style>\n",
              "<table border=\"1\" class=\"dataframe\">\n",
              "  <thead>\n",
              "    <tr style=\"text-align: right;\">\n",
              "      <th></th>\n",
              "      <th>Nombre</th>\n",
              "      <th>Carrera</th>\n",
              "      <th>Semestre</th>\n",
              "      <th>Pasatiempo</th>\n",
              "      <th>sueño</th>\n",
              "      <th>sexo</th>\n",
              "    </tr>\n",
              "  </thead>\n",
              "  <tbody>\n",
              "    <tr>\n",
              "      <th>0</th>\n",
              "      <td>jonathan urrego zea</td>\n",
              "      <td>ing. Sistemas</td>\n",
              "      <td>8</td>\n",
              "      <td>aprender,deporte</td>\n",
              "      <td>emprendimiento</td>\n",
              "      <td>h</td>\n",
              "    </tr>\n",
              "    <tr>\n",
              "      <th>1</th>\n",
              "      <td>edwar josé londoño correa</td>\n",
              "      <td>ing. Sistemas</td>\n",
              "      <td>9</td>\n",
              "      <td>ejercicio, rumbear,estudiar</td>\n",
              "      <td>innovar</td>\n",
              "      <td>h</td>\n",
              "    </tr>\n",
              "    <tr>\n",
              "      <th>2</th>\n",
              "      <td>german alonso patiño hurtado</td>\n",
              "      <td>estadística</td>\n",
              "      <td>10</td>\n",
              "      <td>trabajar,ver peliculas</td>\n",
              "      <td>cientifico de datos</td>\n",
              "      <td>h</td>\n",
              "    </tr>\n",
              "    <tr>\n",
              "      <th>3</th>\n",
              "      <td>johan sebastián cano garcía</td>\n",
              "      <td>ing. Sistemas</td>\n",
              "      <td>10</td>\n",
              "      <td>videojuegos</td>\n",
              "      <td>cientifico de datos</td>\n",
              "      <td>h</td>\n",
              "    </tr>\n",
              "    <tr>\n",
              "      <th>4</th>\n",
              "      <td>fernando jose calderon buitrago</td>\n",
              "      <td>ing. Civil</td>\n",
              "      <td>9</td>\n",
              "      <td>nadar</td>\n",
              "      <td>cientifico de datos</td>\n",
              "      <td>h</td>\n",
              "    </tr>\n",
              "  </tbody>\n",
              "</table>\n",
              "</div>\n",
              "      <button class=\"colab-df-convert\" onclick=\"convertToInteractive('df-9d6b4599-e679-455f-9c82-c69eb9a38a2e')\"\n",
              "              title=\"Convert this dataframe to an interactive table.\"\n",
              "              style=\"display:none;\">\n",
              "        \n",
              "  <svg xmlns=\"http://www.w3.org/2000/svg\" height=\"24px\"viewBox=\"0 0 24 24\"\n",
              "       width=\"24px\">\n",
              "    <path d=\"M0 0h24v24H0V0z\" fill=\"none\"/>\n",
              "    <path d=\"M18.56 5.44l.94 2.06.94-2.06 2.06-.94-2.06-.94-.94-2.06-.94 2.06-2.06.94zm-11 1L8.5 8.5l.94-2.06 2.06-.94-2.06-.94L8.5 2.5l-.94 2.06-2.06.94zm10 10l.94 2.06.94-2.06 2.06-.94-2.06-.94-.94-2.06-.94 2.06-2.06.94z\"/><path d=\"M17.41 7.96l-1.37-1.37c-.4-.4-.92-.59-1.43-.59-.52 0-1.04.2-1.43.59L10.3 9.45l-7.72 7.72c-.78.78-.78 2.05 0 2.83L4 21.41c.39.39.9.59 1.41.59.51 0 1.02-.2 1.41-.59l7.78-7.78 2.81-2.81c.8-.78.8-2.07 0-2.86zM5.41 20L4 18.59l7.72-7.72 1.47 1.35L5.41 20z\"/>\n",
              "  </svg>\n",
              "      </button>\n",
              "      \n",
              "  <style>\n",
              "    .colab-df-container {\n",
              "      display:flex;\n",
              "      flex-wrap:wrap;\n",
              "      gap: 12px;\n",
              "    }\n",
              "\n",
              "    .colab-df-convert {\n",
              "      background-color: #E8F0FE;\n",
              "      border: none;\n",
              "      border-radius: 50%;\n",
              "      cursor: pointer;\n",
              "      display: none;\n",
              "      fill: #1967D2;\n",
              "      height: 32px;\n",
              "      padding: 0 0 0 0;\n",
              "      width: 32px;\n",
              "    }\n",
              "\n",
              "    .colab-df-convert:hover {\n",
              "      background-color: #E2EBFA;\n",
              "      box-shadow: 0px 1px 2px rgba(60, 64, 67, 0.3), 0px 1px 3px 1px rgba(60, 64, 67, 0.15);\n",
              "      fill: #174EA6;\n",
              "    }\n",
              "\n",
              "    [theme=dark] .colab-df-convert {\n",
              "      background-color: #3B4455;\n",
              "      fill: #D2E3FC;\n",
              "    }\n",
              "\n",
              "    [theme=dark] .colab-df-convert:hover {\n",
              "      background-color: #434B5C;\n",
              "      box-shadow: 0px 1px 3px 1px rgba(0, 0, 0, 0.15);\n",
              "      filter: drop-shadow(0px 1px 2px rgba(0, 0, 0, 0.3));\n",
              "      fill: #FFFFFF;\n",
              "    }\n",
              "  </style>\n",
              "\n",
              "      <script>\n",
              "        const buttonEl =\n",
              "          document.querySelector('#df-9d6b4599-e679-455f-9c82-c69eb9a38a2e button.colab-df-convert');\n",
              "        buttonEl.style.display =\n",
              "          google.colab.kernel.accessAllowed ? 'block' : 'none';\n",
              "\n",
              "        async function convertToInteractive(key) {\n",
              "          const element = document.querySelector('#df-9d6b4599-e679-455f-9c82-c69eb9a38a2e');\n",
              "          const dataTable =\n",
              "            await google.colab.kernel.invokeFunction('convertToInteractive',\n",
              "                                                     [key], {});\n",
              "          if (!dataTable) return;\n",
              "\n",
              "          const docLinkHtml = 'Like what you see? Visit the ' +\n",
              "            '<a target=\"_blank\" href=https://colab.research.google.com/notebooks/data_table.ipynb>data table notebook</a>'\n",
              "            + ' to learn more about interactive tables.';\n",
              "          element.innerHTML = '';\n",
              "          dataTable['output_type'] = 'display_data';\n",
              "          await google.colab.output.renderOutput(dataTable, element);\n",
              "          const docLink = document.createElement('div');\n",
              "          docLink.innerHTML = docLinkHtml;\n",
              "          element.appendChild(docLink);\n",
              "        }\n",
              "      </script>\n",
              "    </div>\n",
              "  </div>\n",
              "  "
            ]
          },
          "metadata": {},
          "execution_count": 121
        }
      ]
    },
    {
      "cell_type": "markdown",
      "source": [
        "#Mis compañeros"
      ],
      "metadata": {
        "id": "JKHbx2ScrMoE"
      }
    },
    {
      "cell_type": "markdown",
      "source": [
        "estas son las carreras que hay en la materia"
      ],
      "metadata": {
        "id": "mjj5B1tQhHvS"
      }
    },
    {
      "cell_type": "code",
      "source": [
        "datos.Carrera.unique()"
      ],
      "metadata": {
        "colab": {
          "base_uri": "https://localhost:8080/"
        },
        "id": "ACo9A3AVg_GF",
        "outputId": "eecaaace-7a91-40b9-cabd-27a394ab6514"
      },
      "execution_count": 122,
      "outputs": [
        {
          "output_type": "execute_result",
          "data": {
            "text/plain": [
              "array(['ing. Sistemas', 'estadística', 'ing. Civil',\n",
              "       'ing. Sistemas,ciencias de la computacion'], dtype=object)"
            ]
          },
          "metadata": {},
          "execution_count": 122
        }
      ]
    },
    {
      "cell_type": "markdown",
      "source": [
        "se cambia el formato para el compañero de doble titulacion con fines practicos"
      ],
      "metadata": {
        "id": "OxW2Q1-F3fmg"
      }
    },
    {
      "cell_type": "code",
      "source": [
        "datos[\"Carrera\"].loc[datos[\"Carrera\"]==\"ing. Sistemas,ciencias de la computacion\"]"
      ],
      "metadata": {
        "colab": {
          "base_uri": "https://localhost:8080/"
        },
        "id": "JqjhZBEas3Bw",
        "outputId": "a833e662-cc3b-4982-e94a-6cb630e9e26a"
      },
      "execution_count": 123,
      "outputs": [
        {
          "output_type": "execute_result",
          "data": {
            "text/plain": [
              "19    ing. Sistemas,ciencias de la computacion\n",
              "Name: Carrera, dtype: object"
            ]
          },
          "metadata": {},
          "execution_count": 123
        }
      ]
    },
    {
      "cell_type": "code",
      "source": [
        "datos.loc[19, ['Carrera']] = [\"ing.Sistemas y c.cien.\"]"
      ],
      "metadata": {
        "id": "Vo0b_Xl5uHqV"
      },
      "execution_count": 124,
      "outputs": []
    },
    {
      "cell_type": "markdown",
      "source": [
        "se tienen dos datos unicos"
      ],
      "metadata": {
        "id": "EkAtZ8QU3q03"
      }
    },
    {
      "cell_type": "code",
      "source": [
        "datos.groupby('Carrera')['sexo'].value_counts()"
      ],
      "metadata": {
        "colab": {
          "base_uri": "https://localhost:8080/"
        },
        "id": "lIboJcYc3TaB",
        "outputId": "a0ee2c11-1128-4044-8108-2c37c663f85c"
      },
      "execution_count": 129,
      "outputs": [
        {
          "output_type": "execute_result",
          "data": {
            "text/plain": [
              "Carrera                 sexo\n",
              "estadística             h        7\n",
              "                        m        3\n",
              "ing. Civil              h        1\n",
              "ing. Sistemas           h       25\n",
              "                        m        3\n",
              "ing.Sistemas y c.cien.  h        1\n",
              "Name: sexo, dtype: int64"
            ]
          },
          "metadata": {},
          "execution_count": 129
        }
      ]
    },
    {
      "cell_type": "markdown",
      "source": [
        "tenemos un total de 40 compañeros que comentaron en el classroom\n"
      ],
      "metadata": {
        "id": "65sScGnZhp1U"
      }
    },
    {
      "cell_type": "code",
      "source": [
        "datos.shape"
      ],
      "metadata": {
        "colab": {
          "base_uri": "https://localhost:8080/"
        },
        "id": "qFTd556thpfv",
        "outputId": "4bb6d9b5-5f3f-4065-f423-1f6cd59c4fd4"
      },
      "execution_count": 126,
      "outputs": [
        {
          "output_type": "execute_result",
          "data": {
            "text/plain": [
              "(40, 6)"
            ]
          },
          "metadata": {},
          "execution_count": 126
        }
      ]
    },
    {
      "cell_type": "markdown",
      "source": [
        "hay muy pocas mujeres en comparación con la cantidad de hombres"
      ],
      "metadata": {
        "id": "kVODZFn-ievy"
      }
    },
    {
      "cell_type": "code",
      "source": [
        "datos.sexo.value_counts()\n"
      ],
      "metadata": {
        "colab": {
          "base_uri": "https://localhost:8080/"
        },
        "id": "vlko0kGRieX2",
        "outputId": "90260aea-f09b-41ad-ab08-d23bcf3969e5"
      },
      "execution_count": 127,
      "outputs": [
        {
          "output_type": "execute_result",
          "data": {
            "text/plain": [
              "h    34\n",
              "m     6\n",
              "Name: sexo, dtype: int64"
            ]
          },
          "metadata": {},
          "execution_count": 127
        }
      ]
    },
    {
      "cell_type": "markdown",
      "source": [
        "en porcentaje se evidencia mejor"
      ],
      "metadata": {
        "id": "04Ur8q2IqNtj"
      }
    },
    {
      "cell_type": "code",
      "source": [
        "hym = datos['sexo'].value_counts() / datos['sexo'].value_counts().sum() * 100\n",
        "hym"
      ],
      "metadata": {
        "colab": {
          "base_uri": "https://localhost:8080/"
        },
        "id": "QlL820rfkfeK",
        "outputId": "389361da-6ce5-431f-9c63-18b42feec62a"
      },
      "execution_count": 128,
      "outputs": [
        {
          "output_type": "execute_result",
          "data": {
            "text/plain": [
              "h    85.0\n",
              "m    15.0\n",
              "Name: sexo, dtype: float64"
            ]
          },
          "metadata": {},
          "execution_count": 128
        }
      ]
    },
    {
      "cell_type": "markdown",
      "source": [
        "se hace una gráfico catplot con el fin de evidenciar alguna tendencia en la categoría \"Carrera\""
      ],
      "metadata": {
        "id": "0jbPpwM6vv74"
      }
    },
    {
      "cell_type": "code",
      "source": [
        "plt.figure(figsize = (15,8))\n",
        "ax =sns.catplot(x=\"Carrera\", y=\"Semestre\",jitter=True, data=datos)\n",
        "plt.xticks(rotation=45)"
      ],
      "metadata": {
        "colab": {
          "base_uri": "https://localhost:8080/",
          "height": 479
        },
        "id": "UtYp24Hqr5rq",
        "outputId": "4ad81aed-1514-487a-aa13-b92dcbbd279c"
      },
      "execution_count": 102,
      "outputs": [
        {
          "output_type": "execute_result",
          "data": {
            "text/plain": [
              "(array([0, 1, 2, 3]), <a list of 4 Text major ticklabel objects>)"
            ]
          },
          "metadata": {},
          "execution_count": 102
        },
        {
          "output_type": "display_data",
          "data": {
            "text/plain": [
              "<Figure size 1080x576 with 0 Axes>"
            ]
          },
          "metadata": {}
        },
        {
          "output_type": "display_data",
          "data": {
            "text/plain": [
              "<Figure size 360x360 with 1 Axes>"
            ],
            "image/png": "[encoded data removed]"
          },
          "metadata": {
            "needs_background": "light"
          }
        }
      ]
    },
    {
      "cell_type": "code",
      "source": [
        "datos2 = datos[(datos[\"Carrera\"]==\"ing. Sistemas\") | (datos[\"Carrera\"]==\"ing.Sistemas y c.cien.\")]"
      ],
      "metadata": {
        "id": "8YaKTNNLwTtx"
      },
      "execution_count": 103,
      "outputs": []
    },
    {
      "cell_type": "code",
      "source": [
        "datos2.head()"
      ],
      "metadata": {
        "colab": {
          "base_uri": "https://localhost:8080/",
          "height": 206
        },
        "id": "Hm64qWi_ydj-",
        "outputId": "3f9eecc9-13c9-494d-f87f-451b555a0645"
      },
      "execution_count": 112,
      "outputs": [
        {
          "output_type": "execute_result",
          "data": {
            "text/plain": [
              "                         Nombre        Carrera  Semestre  \\\n",
              "0           jonathan urrego zea  ing. Sistemas         8   \n",
              "1     edwar josé londoño correa  ing. Sistemas         9   \n",
              "3  johan sebastián cano garcía   ing. Sistemas        10   \n",
              "5   andres camilo garcía moreno  ing. Sistemas         9   \n",
              "6     juan felipe usuga villega  ing. Sistemas        11   \n",
              "\n",
              "                    Pasatiempo                   sueño sexo  \n",
              "0             aprender,deporte          emprendimiento    h  \n",
              "1  ejercicio, rumbear,estudiar                 innovar    h  \n",
              "3                  videojuegos     cientifico de datos    h  \n",
              "5                  videojuegos            ganar dinero    h  \n",
              "6    videojuegos, motociclismo  ingenieria de software    h  "
            ],
            "text/html": [
              "\n",
              "  <div id=\"df-886bedc7-2b71-4dd4-9095-3c4671699240\">\n",
              "    <div class=\"colab-df-container\">\n",
              "      <div>\n",
              "<style scoped>\n",
              "    .dataframe tbody tr th:only-of-type {\n",
              "        vertical-align: middle;\n",
              "    }\n",
              "\n",
              "    .dataframe tbody tr th {\n",
              "        vertical-align: top;\n",
              "    }\n",
              "\n",
              "    .dataframe thead th {\n",
              "        text-align: right;\n",
              "    }\n",
              "</style>\n",
              "<table border=\"1\" class=\"dataframe\">\n",
              "  <thead>\n",
              "    <tr style=\"text-align: right;\">\n",
              "      <th></th>\n",
              "      <th>Nombre</th>\n",
              "      <th>Carrera</th>\n",
              "      <th>Semestre</th>\n",
              "      <th>Pasatiempo</th>\n",
              "      <th>sueño</th>\n",
              "      <th>sexo</th>\n",
              "    </tr>\n",
              "  </thead>\n",
              "  <tbody>\n",
              "    <tr>\n",
              "      <th>0</th>\n",
              "      <td>jonathan urrego zea</td>\n",
              "      <td>ing. Sistemas</td>\n",
              "      <td>8</td>\n",
              "      <td>aprender,deporte</td>\n",
              "      <td>emprendimiento</td>\n",
              "      <td>h</td>\n",
              "    </tr>\n",
              "    <tr>\n",
              "      <th>1</th>\n",
              "      <td>edwar josé londoño correa</td>\n",
              "      <td>ing. Sistemas</td>\n",
              "      <td>9</td>\n",
              "      <td>ejercicio, rumbear,estudiar</td>\n",
              "      <td>innovar</td>\n",
              "      <td>h</td>\n",
              "    </tr>\n",
              "    <tr>\n",
              "      <th>3</th>\n",
              "      <td>johan sebastián cano garcía</td>\n",
              "      <td>ing. Sistemas</td>\n",
              "      <td>10</td>\n",
              "      <td>videojuegos</td>\n",
              "      <td>cientifico de datos</td>\n",
              "      <td>h</td>\n",
              "    </tr>\n",
              "    <tr>\n",
              "      <th>5</th>\n",
              "      <td>andres camilo garcía moreno</td>\n",
              "      <td>ing. Sistemas</td>\n",
              "      <td>9</td>\n",
              "      <td>videojuegos</td>\n",
              "      <td>ganar dinero</td>\n",
              "      <td>h</td>\n",
              "    </tr>\n",
              "    <tr>\n",
              "      <th>6</th>\n",
              "      <td>juan felipe usuga villega</td>\n",
              "      <td>ing. Sistemas</td>\n",
              "      <td>11</td>\n",
              "      <td>videojuegos, motociclismo</td>\n",
              "      <td>ingenieria de software</td>\n",
              "      <td>h</td>\n",
              "    </tr>\n",
              "  </tbody>\n",
              "</table>\n",
              "</div>\n",
              "      <button class=\"colab-df-convert\" onclick=\"convertToInteractive('df-886bedc7-2b71-4dd4-9095-3c4671699240')\"\n",
              "              title=\"Convert this dataframe to an interactive table.\"\n",
              "              style=\"display:none;\">\n",
              "        \n",
              "  <svg xmlns=\"http://www.w3.org/2000/svg\" height=\"24px\"viewBox=\"0 0 24 24\"\n",
              "       width=\"24px\">\n",
              "    <path d=\"M0 0h24v24H0V0z\" fill=\"none\"/>\n",
              "    <path d=\"M18.56 5.44l.94 2.06.94-2.06 2.06-.94-2.06-.94-.94-2.06-.94 2.06-2.06.94zm-11 1L8.5 8.5l.94-2.06 2.06-.94-2.06-.94L8.5 2.5l-.94 2.06-2.06.94zm10 10l.94 2.06.94-2.06 2.06-.94-2.06-.94-.94-2.06-.94 2.06-2.06.94z\"/><path d=\"M17.41 7.96l-1.37-1.37c-.4-.4-.92-.59-1.43-.59-.52 0-1.04.2-1.43.59L10.3 9.45l-7.72 7.72c-.78.78-.78 2.05 0 2.83L4 21.41c.39.39.9.59 1.41.59.51 0 1.02-.2 1.41-.59l7.78-7.78 2.81-2.81c.8-.78.8-2.07 0-2.86zM5.41 20L4 18.59l7.72-7.72 1.47 1.35L5.41 20z\"/>\n",
              "  </svg>\n",
              "      </button>\n",
              "      \n",
              "  <style>\n",
              "    .colab-df-container {\n",
              "      display:flex;\n",
              "      flex-wrap:wrap;\n",
              "      gap: 12px;\n",
              "    }\n",
              "\n",
              "    .colab-df-convert {\n",
              "      background-color: #E8F0FE;\n",
              "      border: none;\n",
              "      border-radius: 50%;\n",
              "      cursor: pointer;\n",
              "      display: none;\n",
              "      fill: #1967D2;\n",
              "      height: 32px;\n",
              "      padding: 0 0 0 0;\n",
              "      width: 32px;\n",
              "    }\n",
              "\n",
              "    .colab-df-convert:hover {\n",
              "      background-color: #E2EBFA;\n",
              "      box-shadow: 0px 1px 2px rgba(60, 64, 67, 0.3), 0px 1px 3px 1px rgba(60, 64, 67, 0.15);\n",
              "      fill: #174EA6;\n",
              "    }\n",
              "\n",
              "    [theme=dark] .colab-df-convert {\n",
              "      background-color: #3B4455;\n",
              "      fill: #D2E3FC;\n",
              "    }\n",
              "\n",
              "    [theme=dark] .colab-df-convert:hover {\n",
              "      background-color: #434B5C;\n",
              "      box-shadow: 0px 1px 3px 1px rgba(0, 0, 0, 0.15);\n",
              "      filter: drop-shadow(0px 1px 2px rgba(0, 0, 0, 0.3));\n",
              "      fill: #FFFFFF;\n",
              "    }\n",
              "  </style>\n",
              "\n",
              "      <script>\n",
              "        const buttonEl =\n",
              "          document.querySelector('#df-886bedc7-2b71-4dd4-9095-3c4671699240 button.colab-df-convert');\n",
              "        buttonEl.style.display =\n",
              "          google.colab.kernel.accessAllowed ? 'block' : 'none';\n",
              "\n",
              "        async function convertToInteractive(key) {\n",
              "          const element = document.querySelector('#df-886bedc7-2b71-4dd4-9095-3c4671699240');\n",
              "          const dataTable =\n",
              "            await google.colab.kernel.invokeFunction('convertToInteractive',\n",
              "                                                     [key], {});\n",
              "          if (!dataTable) return;\n",
              "\n",
              "          const docLinkHtml = 'Like what you see? Visit the ' +\n",
              "            '<a target=\"_blank\" href=https://colab.research.google.com/notebooks/data_table.ipynb>data table notebook</a>'\n",
              "            + ' to learn more about interactive tables.';\n",
              "          element.innerHTML = '';\n",
              "          dataTable['output_type'] = 'display_data';\n",
              "          await google.colab.output.renderOutput(dataTable, element);\n",
              "          const docLink = document.createElement('div');\n",
              "          docLink.innerHTML = docLinkHtml;\n",
              "          element.appendChild(docLink);\n",
              "        }\n",
              "      </script>\n",
              "    </div>\n",
              "  </div>\n",
              "  "
            ]
          },
          "metadata": {},
          "execution_count": 112
        }
      ]
    },
    {
      "cell_type": "code",
      "source": [
        "plt.figure(figsize = (10,8))\n",
        "ax =sns.boxplot(x=\"Carrera\", y= \"Semestre\", data=datos2)\n",
        "plt.xticks(rotation=45)"
      ],
      "metadata": {
        "colab": {
          "base_uri": "https://localhost:8080/",
          "height": 588
        },
        "id": "d_gsctJPw5gq",
        "outputId": "9239eafc-19ae-449c-8ab5-cf5eb496aa7a"
      },
      "execution_count": 130,
      "outputs": [
        {
          "output_type": "execute_result",
          "data": {
            "text/plain": [
              "(array([0, 1]), <a list of 2 Text major ticklabel objects>)"
            ]
          },
          "metadata": {},
          "execution_count": 130
        },
        {
          "output_type": "display_data",
          "data": {
            "text/plain": [
              "<Figure size 720x576 with 1 Axes>"
            ],
            "image/png": "[encoded data removed]"
          },
          "metadata": {
            "needs_background": "light"
          }
        }
      ]
    },
    {
      "cell_type": "markdown",
      "source": [
        "los estudiantes de la carrera ingeniería en sistemas que estan viendo tecnicas en aprendizaje estadístico este semestre muestran una agrupación grande en semestres avanzados (del 7 al 9)"
      ],
      "metadata": {
        "id": "DXbCgGM6zCP_"
      }
    },
    {
      "cell_type": "markdown",
      "source": [
        "se plantea la duda de si es por el hecho de haber visto alguna materia anterior como inteligencia artificial o simulación de sistemas\n",
        "\n",
        "\n",
        "\n"
      ],
      "metadata": {
        "id": "PVnDd1S1zxjJ"
      }
    },
    {
      "cell_type": "code",
      "source": [
        ""
      ],
      "metadata": {
        "id": "wcWmb_qOqhS8"
      },
      "execution_count": null,
      "outputs": []
    },
    {
      "cell_type": "markdown",
      "source": [
        "¿los compañeros estudian algo que tiene que ver con su sueño?"
      ],
      "metadata": {
        "id": "y8RRjaZz6V_C"
      }
    },
    {
      "cell_type": "markdown",
      "source": [
        "por fines practicos se utliza \"cientifico de datos como el default para cualquier sueño que tenga que ver con datos"
      ],
      "metadata": {
        "id": "aC8FzDHk_BkD"
      }
    },
    {
      "cell_type": "code",
      "source": [
        "datos.groupby('sueño')['Carrera'].value_counts()"
      ],
      "metadata": {
        "colab": {
          "base_uri": "https://localhost:8080/"
        },
        "id": "hPeiOQbf76FL",
        "outputId": "c3824a80-1a14-4233-c426-addf52b88d3c"
      },
      "execution_count": 135,
      "outputs": [
        {
          "output_type": "execute_result",
          "data": {
            "text/plain": [
              "sueño                           Carrera               \n",
              "actuario                        estadística                1\n",
              "cientifico de datos             ing. Sistemas             17\n",
              "                                estadística                6\n",
              "                                ing. Civil                 1\n",
              "desarrollar software            ing. Sistemas              1\n",
              "desarrollo web                  ing. Sistemas              1\n",
              "doctor en economia              estadística                1\n",
              "emprendimiento                  ing. Sistemas              1\n",
              "game developer                  ing. Sistemas              1\n",
              "ganar dinero                    ing. Sistemas              2\n",
              "graduarse                       estadística                1\n",
              "ingenieria de software          ing. Sistemas              1\n",
              "innovar                         ing. Sistemas              1\n",
              "investigar finanzas             estadística                1\n",
              "programador                     ing. Sistemas              1\n",
              "                                ing.Sistemas y c.cien.     1\n",
              "subir de puesto                 ing. Sistemas              1\n",
              "trabajar en una empresa grande  ing. Sistemas              1\n",
              "Name: Carrera, dtype: int64"
            ]
          },
          "metadata": {},
          "execution_count": 135
        }
      ]
    },
    {
      "cell_type": "markdown",
      "source": [
        "hay un compañero de ingenieria civil que quiere hacer algo relacionado con datos y hay un compañero de estadística que quiere hacer algo de economia cosa que está bastante relacionada pero para eso hay una carrera de economia."
      ],
      "metadata": {
        "id": "myzTJoDP-16B"
      }
    },
    {
      "cell_type": "markdown",
      "source": [
        "hay 6 compañeros de estadística que quieren trabajar con datos y por lo tanto tienen que trabajar bastante su componente de programación"
      ],
      "metadata": {
        "id": "8JexKaNT_tCL"
      }
    },
    {
      "cell_type": "markdown",
      "source": [
        "hay 17 compañeros de sistemas que tienen que trabajar bastante su componente estadístico, puesto que, quieren trabajar de algo relacionado con los datos"
      ],
      "metadata": {
        "id": "LkntlSu3__uh"
      }
    },
    {
      "cell_type": "code",
      "source": [
        ""
      ],
      "metadata": {
        "id": "D3LvPJpk9rY0"
      },
      "execution_count": null,
      "outputs": []
    }
  ]
}